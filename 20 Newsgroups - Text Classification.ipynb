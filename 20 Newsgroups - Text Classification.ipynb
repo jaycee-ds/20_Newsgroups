{
 "cells": [
  {
   "cell_type": "code",
   "execution_count": 1,
   "metadata": {},
   "outputs": [],
   "source": [
    "from sklearn.datasets import fetch_20newsgroups\n",
    "from sklearn.feature_extraction.text import CountVectorizer, TfidfTransformer\n",
    "from sklearn.naive_bayes import MultinomialNB\n",
    "from sklearn.pipeline import Pipeline\n",
    "from sklearn.svm import SVC\n",
    "from sklearn.metrics import confusion_matrix, classification_report\n",
    "from sklearn.model_selection import GridSearchCV\n",
    "import numpy as np\n",
    "import xgboost\n",
    "import matplotlib.pyplot as plt\n",
    "from tqdm import tqdm\n",
    "import pandas as pd"
   ]
  },
  {
   "cell_type": "markdown",
   "metadata": {},
   "source": [
    "# Loading the Data"
   ]
  },
  {
   "cell_type": "code",
   "execution_count": 2,
   "metadata": {},
   "outputs": [],
   "source": [
    "train = fetch_20newsgroups(subset='train', shuffle=True)\n",
    "test = fetch_20newsgroups(subset='test', shuffle=True)"
   ]
  },
  {
   "cell_type": "code",
   "execution_count": 3,
   "metadata": {},
   "outputs": [
    {
     "name": "stdout",
     "output_type": "stream",
     "text": [
      "These are the categories:\n",
      "\n"
     ]
    },
    {
     "data": {
      "text/plain": [
       "['alt.atheism',\n",
       " 'comp.graphics',\n",
       " 'comp.os.ms-windows.misc',\n",
       " 'comp.sys.ibm.pc.hardware',\n",
       " 'comp.sys.mac.hardware',\n",
       " 'comp.windows.x',\n",
       " 'misc.forsale',\n",
       " 'rec.autos',\n",
       " 'rec.motorcycles',\n",
       " 'rec.sport.baseball',\n",
       " 'rec.sport.hockey',\n",
       " 'sci.crypt',\n",
       " 'sci.electronics',\n",
       " 'sci.med',\n",
       " 'sci.space',\n",
       " 'soc.religion.christian',\n",
       " 'talk.politics.guns',\n",
       " 'talk.politics.mideast',\n",
       " 'talk.politics.misc',\n",
       " 'talk.religion.misc']"
      ]
     },
     "execution_count": 3,
     "metadata": {},
     "output_type": "execute_result"
    }
   ],
   "source": [
    "print('These are the categories:\\n') \n",
    "train.target_names"
   ]
  },
  {
   "cell_type": "markdown",
   "metadata": {},
   "source": [
    "# ML Algorithms"
   ]
  },
  {
   "cell_type": "markdown",
   "metadata": {},
   "source": [
    "We're going to use different algorithms and assess their performance towards the problem at hand 🤚 "
   ]
  },
  {
   "cell_type": "markdown",
   "metadata": {},
   "source": [
    "By building a pipeline, this will do several tasks for us by writing just a simple line of code.\n",
    "\n",
    "- Vectorizing -> Tokenize our text words and count them.\n",
    "- TF-IDF -> Compute term frequencies and then reduce the weight of common words that appear everywhere (like definite and undefinite articles, prepositions, etc.).\n",
    "- Load an instance of the corresponding algorithm"
   ]
  },
  {
   "cell_type": "markdown",
   "metadata": {},
   "source": [
    "## Naive Bayes"
   ]
  },
  {
   "cell_type": "code",
   "execution_count": 4,
   "metadata": {},
   "outputs": [],
   "source": [
    "NB_clf = Pipeline([('vector', CountVectorizer()),\n",
    "                   ('tfidf', TfidfTransformer()),\n",
    "                   ('clf', MultinomialNB())])"
   ]
  },
  {
   "cell_type": "code",
   "execution_count": 5,
   "metadata": {},
   "outputs": [],
   "source": [
    "NB_clf = NB_clf.fit(train.data, train.target)"
   ]
  },
  {
   "cell_type": "markdown",
   "metadata": {},
   "source": [
    "We're going to predict categories of texts in our test data by using the model we have just trained before."
   ]
  },
  {
   "cell_type": "code",
   "execution_count": 6,
   "metadata": {},
   "outputs": [
    {
     "name": "stdout",
     "output_type": "stream",
     "text": [
      "We've got 0.77 accuracy\n"
     ]
    }
   ],
   "source": [
    "predictions = NB_clf.predict(test.data)\n",
    "print('We\\'ve got', float('{:.2f}'.format(np.mean(predictions == test.target))), 'accuracy')"
   ]
  },
  {
   "cell_type": "code",
   "execution_count": 7,
   "metadata": {
    "scrolled": false
   },
   "outputs": [
    {
     "name": "stdout",
     "output_type": "stream",
     "text": [
      "                          precision    recall  f1-score   support\n",
      "\n",
      "             alt.atheism       0.80      0.52      0.63       319\n",
      "           comp.graphics       0.81      0.65      0.72       389\n",
      " comp.os.ms-windows.misc       0.82      0.65      0.73       394\n",
      "comp.sys.ibm.pc.hardware       0.67      0.78      0.72       392\n",
      "   comp.sys.mac.hardware       0.86      0.77      0.81       385\n",
      "          comp.windows.x       0.89      0.75      0.82       395\n",
      "            misc.forsale       0.93      0.69      0.80       390\n",
      "               rec.autos       0.85      0.92      0.88       396\n",
      "         rec.motorcycles       0.94      0.93      0.93       398\n",
      "      rec.sport.baseball       0.92      0.90      0.91       397\n",
      "        rec.sport.hockey       0.89      0.97      0.93       399\n",
      "               sci.crypt       0.59      0.97      0.74       396\n",
      "         sci.electronics       0.84      0.60      0.70       393\n",
      "                 sci.med       0.92      0.74      0.82       396\n",
      "               sci.space       0.84      0.89      0.87       394\n",
      "  soc.religion.christian       0.44      0.98      0.61       398\n",
      "      talk.politics.guns       0.64      0.94      0.76       364\n",
      "   talk.politics.mideast       0.93      0.91      0.92       376\n",
      "      talk.politics.misc       0.96      0.42      0.58       310\n",
      "      talk.religion.misc       0.97      0.14      0.24       251\n",
      "\n",
      "                accuracy                           0.77      7532\n",
      "               macro avg       0.83      0.76      0.76      7532\n",
      "            weighted avg       0.82      0.77      0.77      7532\n",
      "\n"
     ]
    }
   ],
   "source": [
    "print(classification_report(test.target, predictions, target_names = test.target_names))"
   ]
  },
  {
   "cell_type": "code",
   "execution_count": 8,
   "metadata": {},
   "outputs": [
    {
     "name": "stdout",
     "output_type": "stream",
     "text": [
      "[[166   0   0   1   0   1   0   0   1   1   1   3   0   6   3 123   4   8\n",
      "    0   1]\n",
      " [  1 252  15  12   9  18   1   2   1   5   2  41   4   0   6  15   4   1\n",
      "    0   0]\n",
      " [  0  14 258  45   3   9   0   2   1   3   2  25   1   0   6  23   2   0\n",
      "    0   0]\n",
      " [  0   5  11 305  17   1   3   6   1   0   2  19  13   0   5   3   1   0\n",
      "    0   0]\n",
      " [  0   3   8  23 298   0   3   8   1   3   1  16   8   0   2   8   3   0\n",
      "    0   0]\n",
      " [  1  21  17  13   2 298   1   0   1   1   0  23   0   1   4  10   2   0\n",
      "    0   0]\n",
      " [  0   1   3  31  12   1 271  19   4   4   6   5  12   6   3   9   3   0\n",
      "    0   0]\n",
      " [  0   1   0   3   0   0   4 364   3   2   2   4   1   1   3   3   4   0\n",
      "    1   0]\n",
      " [  0   0   0   1   0   0   2  10 371   0   0   4   0   0   0   8   2   0\n",
      "    0   0]\n",
      " [  0   0   0   0   1   0   0   4   0 357  22   0   0   0   2   9   1   1\n",
      "    0   0]\n",
      " [  0   0   0   0   0   0   0   1   0   4 387   1   0   0   1   5   0   0\n",
      "    0   0]\n",
      " [  0   2   1   0   0   1   1   3   0   0   0 383   1   0   0   3   1   0\n",
      "    0   0]\n",
      " [  0   4   2  17   5   0   2   8   7   1   2  78 235   3  11  15   2   1\n",
      "    0   0]\n",
      " [  2   3   0   1   1   3   1   0   2   3   4  11   5 292   6  52   6   4\n",
      "    0   0]\n",
      " [  0   2   0   1   0   3   0   2   1   0   1   6   1   2 351  19   4   0\n",
      "    1   0]\n",
      " [  2   0   0   0   0   0   0   0   1   0   0   0   0   1   2 392   0   0\n",
      "    0   0]\n",
      " [  0   0   0   1   0   0   2   0   1   1   0  10   0   0   1   6 341   1\n",
      "    0   0]\n",
      " [  0   1   0   0   0   0   0   0   0   1   0   2   0   0   0  24   3 344\n",
      "    1   0]\n",
      " [  2   0   0   0   0   0   0   1   0   0   1  11   0   1   7  35 118   5\n",
      "  129   0]\n",
      " [ 33   2   0   0   0   0   0   0   0   1   1   3   0   4   4 131  29   5\n",
      "    3  35]]\n"
     ]
    }
   ],
   "source": [
    "cm = confusion_matrix(test.target, predictions)\n",
    "print(cm)"
   ]
  },
  {
   "cell_type": "code",
   "execution_count": 9,
   "metadata": {},
   "outputs": [
    {
     "data": {
      "text/plain": [
       "<matplotlib.colorbar.Colorbar at 0x7f8f23136fa0>"
      ]
     },
     "execution_count": 9,
     "metadata": {},
     "output_type": "execute_result"
    },
    {
     "data": {
      "image/png": "[encoded data removed]",
      "text/plain": [
       "<Figure size 288x288 with 2 Axes>"
      ]
     },
     "metadata": {
      "needs_background": "light"
     },
     "output_type": "display_data"
    }
   ],
   "source": [
    "plt.matshow(cm)\n",
    "plt.colorbar()"
   ]
  },
  {
   "cell_type": "markdown",
   "metadata": {},
   "source": [
    "## Support Vector Machines "
   ]
  },
  {
   "cell_type": "code",
   "execution_count": 10,
   "metadata": {},
   "outputs": [],
   "source": [
    "SVC_clf = Pipeline([('vector', CountVectorizer()),\n",
    "                    ('tfidf', TfidfTransformer()),\n",
    "                    ('clf', SVC())])"
   ]
  },
  {
   "cell_type": "code",
   "execution_count": 11,
   "metadata": {},
   "outputs": [],
   "source": [
    "SVC_clf = SVC_clf.fit(train.data, train.target)"
   ]
  },
  {
   "cell_type": "code",
   "execution_count": 12,
   "metadata": {},
   "outputs": [
    {
     "name": "stdout",
     "output_type": "stream",
     "text": [
      "We've got 0.82 accuracy\n"
     ]
    }
   ],
   "source": [
    "predictions = SVC_clf.predict(test.data)\n",
    "print('We\\'ve got', float('{:.2f}'.format(np.mean(predictions == test.target))), 'accuracy')"
   ]
  },
  {
   "cell_type": "code",
   "execution_count": 13,
   "metadata": {},
   "outputs": [
    {
     "name": "stdout",
     "output_type": "stream",
     "text": [
      "                          precision    recall  f1-score   support\n",
      "\n",
      "             alt.atheism       0.83      0.71      0.76       319\n",
      "           comp.graphics       0.62      0.82      0.71       389\n",
      " comp.os.ms-windows.misc       0.80      0.70      0.75       394\n",
      "comp.sys.ibm.pc.hardware       0.73      0.78      0.76       392\n",
      "   comp.sys.mac.hardware       0.82      0.83      0.82       385\n",
      "          comp.windows.x       0.83      0.73      0.77       395\n",
      "            misc.forsale       0.73      0.91      0.81       390\n",
      "               rec.autos       0.90      0.87      0.89       396\n",
      "         rec.motorcycles       0.96      0.93      0.95       398\n",
      "      rec.sport.baseball       0.88      0.91      0.90       397\n",
      "        rec.sport.hockey       0.97      0.91      0.94       399\n",
      "               sci.crypt       0.96      0.85      0.90       396\n",
      "         sci.electronics       0.65      0.85      0.74       393\n",
      "                 sci.med       0.88      0.78      0.82       396\n",
      "               sci.space       0.93      0.88      0.90       394\n",
      "  soc.religion.christian       0.79      0.92      0.85       398\n",
      "      talk.politics.guns       0.75      0.88      0.81       364\n",
      "   talk.politics.mideast       0.97      0.81      0.88       376\n",
      "      talk.politics.misc       0.75      0.59      0.66       310\n",
      "      talk.religion.misc       0.79      0.55      0.65       251\n",
      "\n",
      "                accuracy                           0.82      7532\n",
      "               macro avg       0.83      0.81      0.81      7532\n",
      "            weighted avg       0.83      0.82      0.82      7532\n",
      "\n"
     ]
    }
   ],
   "source": [
    "print(classification_report(test.target, predictions, target_names = test.target_names))"
   ]
  },
  {
   "cell_type": "code",
   "execution_count": 14,
   "metadata": {},
   "outputs": [
    {
     "name": "stdout",
     "output_type": "stream",
     "text": [
      "[[226   6   0   0   2   1   2   0   1   3   0   1   4   8   3  34   1   2\n",
      "    3  22]\n",
      " [  1 320   8   8   7  15   4   1   0   2   0   3  14   1   1   2   0   0\n",
      "    2   0]\n",
      " [  0  28 277  39   9  12   2   2   1   3   0   2   6   2   2   3   0   0\n",
      "    5   1]\n",
      " [  0  15  15 307  15   3  15   2   0   0   0   0  19   0   0   0   1   0\n",
      "    0   0]\n",
      " [  0   5   4  19 318   2  13   0   0   5   0   0  18   0   0   0   0   0\n",
      "    1   0]\n",
      " [  0  51  36   6   4 288   4   0   0   0   0   0   2   2   2   0   0   0\n",
      "    0   0]\n",
      " [  0   5   1  11   3   0 353   4   1   2   1   0   8   1   0   0   0   0\n",
      "    0   0]\n",
      " [  0   5   0   5   1   2  15 346   3   0   0   0  13   1   1   0   2   0\n",
      "    2   0]\n",
      " [  0   2   0   0   0   0   7  11 371   1   0   0   4   2   0   0   0   0\n",
      "    0   0]\n",
      " [  0   2   0   0   2   1  10   1   1 361  12   0   3   0   0   2   0   0\n",
      "    1   1]\n",
      " [  0   2   0   1   4   3   6   0   0  11 365   0   3   0   0   1   0   0\n",
      "    3   0]\n",
      " [  1   9   1   1   4   4   9   1   1   3   0 337  13   0   1   0   5   1\n",
      "    5   0]\n",
      " [  0  10   2  17   6   1   7   5   2   1   0   4 334   3   1   0   0   0\n",
      "    0   0]\n",
      " [  1  21   0   3   3   3  14   2   3   3   0   0  29 307   0   2   0   2\n",
      "    3   0]\n",
      " [  0  15   0   0   4   4   4   1   0   0   0   0   9   5 346   1   2   0\n",
      "    3   0]\n",
      " [  4   4   1   1   0   1   2   0   0   2   0   0   6   2   2 366   0   0\n",
      "    0   7]\n",
      " [  0   3   0   2   1   1   5   4   0   4   0   1   5   4   2   0 320   1\n",
      "    8   3]\n",
      " [ 12   4   0   1   2   7   1   1   2   4   0   0   4   2   2   9   1 303\n",
      "   20   1]\n",
      " [  1   2   0   0   3   1   5   1   0   0   0   3  11   5   6   3  83   1\n",
      "  184   1]\n",
      " [ 27   6   0   0   0   0   5   2   0   3   0   0   5   5   4  41  10   1\n",
      "    5 137]]\n"
     ]
    }
   ],
   "source": [
    "cm = confusion_matrix(test.target, predictions)\n",
    "print(cm)"
   ]
  },
  {
   "cell_type": "code",
   "execution_count": 15,
   "metadata": {},
   "outputs": [
    {
     "data": {
      "text/plain": [
       "<matplotlib.colorbar.Colorbar at 0x7f8f013f6ca0>"
      ]
     },
     "execution_count": 15,
     "metadata": {},
     "output_type": "execute_result"
    },
    {
     "data": {
      "image/png": "[encoded data removed]",
      "text/plain": [
       "<Figure size 288x288 with 2 Axes>"
      ]
     },
     "metadata": {
      "needs_background": "light"
     },
     "output_type": "display_data"
    }
   ],
   "source": [
    "plt.matshow(cm)\n",
    "plt.colorbar()"
   ]
  },
  {
   "cell_type": "markdown",
   "metadata": {},
   "source": [
    "## XGBoost"
   ]
  },
  {
   "cell_type": "code",
   "execution_count": 16,
   "metadata": {},
   "outputs": [],
   "source": [
    "XGB_clf = Pipeline([('vector', CountVectorizer()),\n",
    "                    ('tfidf', TfidfTransformer()),\n",
    "                    ('clf', xgboost.XGBClassifier())])"
   ]
  },
  {
   "cell_type": "code",
   "execution_count": 17,
   "metadata": {},
   "outputs": [],
   "source": [
    "XGB_clf = XGB_clf.fit(train.data, train.target)"
   ]
  },
  {
   "cell_type": "code",
   "execution_count": 18,
   "metadata": {},
   "outputs": [
    {
     "name": "stdout",
     "output_type": "stream",
     "text": [
      "We've got 0.75 accuracy\n"
     ]
    }
   ],
   "source": [
    "predictions = XGB_clf.predict(test.data)\n",
    "print('We\\'ve got', float('{:.2f}'.format(np.mean(predictions == test.target))), 'accuracy')"
   ]
  },
  {
   "cell_type": "code",
   "execution_count": 19,
   "metadata": {},
   "outputs": [
    {
     "name": "stdout",
     "output_type": "stream",
     "text": [
      "                          precision    recall  f1-score   support\n",
      "\n",
      "             alt.atheism       0.75      0.66      0.70       319\n",
      "           comp.graphics       0.62      0.69      0.65       389\n",
      " comp.os.ms-windows.misc       0.69      0.70      0.70       394\n",
      "comp.sys.ibm.pc.hardware       0.59      0.67      0.63       392\n",
      "   comp.sys.mac.hardware       0.69      0.78      0.74       385\n",
      "          comp.windows.x       0.79      0.64      0.70       395\n",
      "            misc.forsale       0.85      0.85      0.85       390\n",
      "               rec.autos       0.79      0.79      0.79       396\n",
      "         rec.motorcycles       0.88      0.85      0.86       398\n",
      "      rec.sport.baseball       0.81      0.84      0.83       397\n",
      "        rec.sport.hockey       0.91      0.86      0.89       399\n",
      "               sci.crypt       0.90      0.82      0.86       396\n",
      "         sci.electronics       0.52      0.61      0.56       393\n",
      "                 sci.med       0.77      0.76      0.76       396\n",
      "               sci.space       0.85      0.82      0.84       394\n",
      "  soc.religion.christian       0.84      0.89      0.86       398\n",
      "      talk.politics.guns       0.63      0.81      0.71       364\n",
      "   talk.politics.mideast       0.95      0.75      0.84       376\n",
      "      talk.politics.misc       0.64      0.50      0.56       310\n",
      "      talk.religion.misc       0.58      0.53      0.56       251\n",
      "\n",
      "                accuracy                           0.75      7532\n",
      "               macro avg       0.75      0.74      0.74      7532\n",
      "            weighted avg       0.76      0.75      0.75      7532\n",
      "\n"
     ]
    }
   ],
   "source": [
    "print(classification_report(test.target, predictions, target_names = test.target_names))"
   ]
  },
  {
   "cell_type": "code",
   "execution_count": 20,
   "metadata": {},
   "outputs": [
    {
     "name": "stdout",
     "output_type": "stream",
     "text": [
      "[[209   2   0   1   7   1   1   1   1   1   3   2   5   8   6  19   4   4\n",
      "    3  41]\n",
      " [  1 268  12  25  18  23   4   1   4   4   1   1  13   4   3   3   1   1\n",
      "    1   1]\n",
      " [  1  20 277  42  17  10   1   0   3   4   0   2   7   2   2   0   2   1\n",
      "    3   0]\n",
      " [  1  14  30 264  20   8   9   4   0   0   1   3  34   2   0   0   1   0\n",
      "    0   1]\n",
      " [  1   6   4  32 301   3   7   1   0   3   0   1  18   3   1   2   0   0\n",
      "    2   0]\n",
      " [  0  47  56   5  10 252   1   3   1   0   0   1  10   0   3   0   2   1\n",
      "    3   0]\n",
      " [  0   3   2  14  10   1 333   3   4   2   0   1  10   4   2   1   0   0\n",
      "    0   0]\n",
      " [  0   4   0   3   2   0   6 314  14   2   0   0  32   3   1   2  11   0\n",
      "    2   0]\n",
      " [  1   2   0   3   3   2   5  18 338   3   1   1   4   8   2   2   4   0\n",
      "    1   0]\n",
      " [  1   5   0   6   2   3   2   7   3 334  17   0   4   5   3   0   0   0\n",
      "    2   3]\n",
      " [  0   1   0   1   5   1   5   0   0  31 343   0   3   1   2   1   3   0\n",
      "    2   0]\n",
      " [  0   4   2   6   4   2   2   2   4   5   0 326  15   3   3   0  10   0\n",
      "    8   0]\n",
      " [  1  16  12  30  20   6   6  17   7   3   3  11 239   7  11   2   0   0\n",
      "    1   1]\n",
      " [  4  20   1   9   4   4   4   5   0   3   1   0  30 299   2   2   2   0\n",
      "    5   1]\n",
      " [  2  14   1   2   5   0   4   3   2   4   1   3   8   8 325   5   1   0\n",
      "    5   1]\n",
      " [  5   1   1   0   0   1   1   0   0   0   0   0   6   2   1 355   0   1\n",
      "    3  21]\n",
      " [  0   3   1   1   2   1   2   4   3   4   1   7   7   4   1   2 294   2\n",
      "   18   7]\n",
      " [ 15   1   0   1   1   3   0   8   1   5   2   1   4   1   5   6  10 282\n",
      "   20  10]\n",
      " [  5   2   1   2   3   0   0   1   1   0   2   1   3  16   6   0 101   2\n",
      "  154  10]\n",
      " [ 33   0   2   2   0   0   0   3   0   3   0   0   6  10   4  23  23   2\n",
      "    6 134]]\n"
     ]
    }
   ],
   "source": [
    "cm = confusion_matrix(test.target, predictions)\n",
    "print(cm)"
   ]
  },
  {
   "cell_type": "code",
   "execution_count": 21,
   "metadata": {},
   "outputs": [
    {
     "data": {
      "text/plain": [
       "<matplotlib.colorbar.Colorbar at 0x7f8ef1697550>"
      ]
     },
     "execution_count": 21,
     "metadata": {},
     "output_type": "execute_result"
    },
    {
     "data": {
      "image/png": "[encoded data removed]",
      "text/plain": [
       "<Figure size 288x288 with 2 Axes>"
      ]
     },
     "metadata": {
      "needs_background": "light"
     },
     "output_type": "display_data"
    }
   ],
   "source": [
    "plt.matshow(cm)\n",
    "plt.colorbar()"
   ]
  },
  {
   "cell_type": "markdown",
   "metadata": {},
   "source": [
    "## Optimizing our models"
   ]
  },
  {
   "cell_type": "markdown",
   "metadata": {},
   "source": [
    "We've obtained good results with the previous algorithms but this can be improved! Let's tune some hyperparameters to see the results."
   ]
  },
  {
   "cell_type": "code",
   "execution_count": 22,
   "metadata": {},
   "outputs": [],
   "source": [
    "params_to_test = {\n",
    "    \"Naive Bayes\": {\n",
    "        \"model\": NB_clf,\n",
    "        \"param\": {\"clf__alpha\": (0.01, 0.001)}  \n",
    "    },\n",
    "    \"Support Vector Machines\": {\n",
    "        \"model\": SVC_clf,\n",
    "        \"param\": {\"clf__C\": (0.1, 1, 10)}\n",
    "    }\n",
    "}"
   ]
  },
  {
   "cell_type": "code",
   "execution_count": 23,
   "metadata": {},
   "outputs": [
    {
     "data": {
      "text/plain": [
       "dict_keys(['memory', 'steps', 'verbose', 'vector', 'tfidf', 'clf', 'vector__analyzer', 'vector__binary', 'vector__decode_error', 'vector__dtype', 'vector__encoding', 'vector__input', 'vector__lowercase', 'vector__max_df', 'vector__max_features', 'vector__min_df', 'vector__ngram_range', 'vector__preprocessor', 'vector__stop_words', 'vector__strip_accents', 'vector__token_pattern', 'vector__tokenizer', 'vector__vocabulary', 'tfidf__norm', 'tfidf__smooth_idf', 'tfidf__sublinear_tf', 'tfidf__use_idf', 'clf__alpha', 'clf__class_prior', 'clf__fit_prior'])"
      ]
     },
     "execution_count": 23,
     "metadata": {},
     "output_type": "execute_result"
    }
   ],
   "source": [
    "NB_clf.get_params().keys()"
   ]
  },
  {
   "cell_type": "code",
   "execution_count": 24,
   "metadata": {},
   "outputs": [
    {
     "data": {
      "text/plain": [
       "dict_keys(['memory', 'steps', 'verbose', 'vector', 'tfidf', 'clf', 'vector__analyzer', 'vector__binary', 'vector__decode_error', 'vector__dtype', 'vector__encoding', 'vector__input', 'vector__lowercase', 'vector__max_df', 'vector__max_features', 'vector__min_df', 'vector__ngram_range', 'vector__preprocessor', 'vector__stop_words', 'vector__strip_accents', 'vector__token_pattern', 'vector__tokenizer', 'vector__vocabulary', 'tfidf__norm', 'tfidf__smooth_idf', 'tfidf__sublinear_tf', 'tfidf__use_idf', 'clf__C', 'clf__break_ties', 'clf__cache_size', 'clf__class_weight', 'clf__coef0', 'clf__decision_function_shape', 'clf__degree', 'clf__gamma', 'clf__kernel', 'clf__max_iter', 'clf__probability', 'clf__random_state', 'clf__shrinking', 'clf__tol', 'clf__verbose'])"
      ]
     },
     "execution_count": 24,
     "metadata": {},
     "output_type": "execute_result"
    }
   ],
   "source": [
    "SVC_clf.get_params().keys()"
   ]
  },
  {
   "cell_type": "code",
   "execution_count": 25,
   "metadata": {},
   "outputs": [
    {
     "name": "stderr",
     "output_type": "stream",
     "text": [
      "100%|██████████| 2/2 [07:45<00:00, 232.72s/it]\n"
     ]
    },
    {
     "data": {
      "text/html": [
       "<div>\n",
       "<style scoped>\n",
       "    .dataframe tbody tr th:only-of-type {\n",
       "        vertical-align: middle;\n",
       "    }\n",
       "\n",
       "    .dataframe tbody tr th {\n",
       "        vertical-align: top;\n",
       "    }\n",
       "\n",
       "    .dataframe thead th {\n",
       "        text-align: right;\n",
       "    }\n",
       "</style>\n",
       "<table border=\"1\" class=\"dataframe\">\n",
       "  <thead>\n",
       "    <tr style=\"text-align: right;\">\n",
       "      <th></th>\n",
       "      <th>Algorithm</th>\n",
       "      <th>Best score</th>\n",
       "      <th>Best params</th>\n",
       "    </tr>\n",
       "  </thead>\n",
       "  <tbody>\n",
       "    <tr>\n",
       "      <th>0</th>\n",
       "      <td>Naive Bayes</td>\n",
       "      <td>0.904543</td>\n",
       "      <td>{'clf__alpha': 0.01}</td>\n",
       "    </tr>\n",
       "    <tr>\n",
       "      <th>1</th>\n",
       "      <td>Support Vector Machines</td>\n",
       "      <td>0.894379</td>\n",
       "      <td>{'clf__C': 10}</td>\n",
       "    </tr>\n",
       "  </tbody>\n",
       "</table>\n",
       "</div>"
      ],
      "text/plain": [
       "                 Algorithm  Best score           Best params\n",
       "0              Naive Bayes    0.904543  {'clf__alpha': 0.01}\n",
       "1  Support Vector Machines    0.894379        {'clf__C': 10}"
      ]
     },
     "execution_count": 25,
     "metadata": {},
     "output_type": "execute_result"
    }
   ],
   "source": [
    "scores = []\n",
    "\n",
    "for key, value in tqdm(params_to_test.items()):\n",
    "    gs_clf = GridSearchCV(value[\"model\"], value[\"param\"], scoring='accuracy', n_jobs=-1, cv=3)\n",
    "    gs_clf.fit(train.data, train.target)\n",
    "    scores.append({\n",
    "        'Algorithm': key,\n",
    "        'Best score': gs_clf.best_score_,\n",
    "        'Best params': gs_clf.best_params_\n",
    "    })\n",
    "\n",
    "scores_df = pd.DataFrame(scores, columns=['Algorithm', 'Best score', 'Best params'])\n",
    "scores_df"
   ]
  },
  {
   "cell_type": "markdown",
   "metadata": {},
   "source": [
    "The trade-off here seems to be on the side of the Naive Bayes algorithm tuning the parameter alpha to 0.01. It's fast and accuracy is high too."
   ]
  },
  {
   "cell_type": "code",
   "execution_count": 28,
   "metadata": {},
   "outputs": [],
   "source": [
    "best_NB_clf = Pipeline([('vector', CountVectorizer()),\n",
    "                   ('tfidf', TfidfTransformer()),\n",
    "                   ('clf', MultinomialNB(alpha=0.01))])"
   ]
  },
  {
   "cell_type": "code",
   "execution_count": 31,
   "metadata": {},
   "outputs": [],
   "source": [
    "best_NB_clf = best_NB_clf.fit(train.data, train.target)"
   ]
  },
  {
   "cell_type": "code",
   "execution_count": 32,
   "metadata": {},
   "outputs": [],
   "source": [
    "predictions = best_NB_clf.predict(test.data)"
   ]
  },
  {
   "cell_type": "code",
   "execution_count": 33,
   "metadata": {},
   "outputs": [
    {
     "name": "stdout",
     "output_type": "stream",
     "text": [
      "                          precision    recall  f1-score   support\n",
      "\n",
      "             alt.atheism       0.82      0.78      0.80       319\n",
      "           comp.graphics       0.69      0.75      0.72       389\n",
      " comp.os.ms-windows.misc       0.74      0.63      0.68       394\n",
      "comp.sys.ibm.pc.hardware       0.65      0.75      0.69       392\n",
      "   comp.sys.mac.hardware       0.83      0.84      0.83       385\n",
      "          comp.windows.x       0.84      0.78      0.81       395\n",
      "            misc.forsale       0.82      0.78      0.80       390\n",
      "               rec.autos       0.89      0.90      0.90       396\n",
      "         rec.motorcycles       0.93      0.96      0.95       398\n",
      "      rec.sport.baseball       0.95      0.94      0.95       397\n",
      "        rec.sport.hockey       0.95      0.97      0.96       399\n",
      "               sci.crypt       0.89      0.93      0.91       396\n",
      "         sci.electronics       0.79      0.77      0.78       393\n",
      "                 sci.med       0.89      0.84      0.86       396\n",
      "               sci.space       0.87      0.91      0.89       394\n",
      "  soc.religion.christian       0.82      0.95      0.88       398\n",
      "      talk.politics.guns       0.76      0.91      0.83       364\n",
      "   talk.politics.mideast       0.97      0.94      0.96       376\n",
      "      talk.politics.misc       0.80      0.64      0.71       310\n",
      "      talk.religion.misc       0.76      0.59      0.67       251\n",
      "\n",
      "                accuracy                           0.84      7532\n",
      "               macro avg       0.83      0.83      0.83      7532\n",
      "            weighted avg       0.84      0.84      0.83      7532\n",
      "\n"
     ]
    }
   ],
   "source": [
    "print(classification_report(test.target, predictions, target_names = test.target_names))"
   ]
  },
  {
   "cell_type": "code",
   "execution_count": 34,
   "metadata": {},
   "outputs": [
    {
     "name": "stdout",
     "output_type": "stream",
     "text": [
      "[[249   0   0   4   0   1   0   0   1   1   0   1   0   5   5  28   3   3\n",
      "    1  17]\n",
      " [  0 290  15  14  10  23   6   0   0   3   0   4  12   0   7   2   0   2\n",
      "    0   1]\n",
      " [  1  32 248  52   4  20   5   0   2   1   1   6   3   3   5   4   0   0\n",
      "    4   3]\n",
      " [  0  11  26 293  22   1  11   1   0   1   0   1  21   0   4   0   0   0\n",
      "    0   0]\n",
      " [  0   7  10  14 322   1   8   4   1   2   1   2   9   2   1   0   1   0\n",
      "    0   0]\n",
      " [  0  40  14  11   6 307   3   1   2   0   0   3   2   1   4   0   1   0\n",
      "    0   0]\n",
      " [  0   4   6  26   8   0 306  11   9   1   5   0   9   4   1   0   0   0\n",
      "    0   0]\n",
      " [  0   1   1   5   1   0  10 358   6   1   0   0   6   3   1   0   2   0\n",
      "    1   0]\n",
      " [  0   1   0   1   1   0   2   7 383   0   0   0   3   0   0   0   0   0\n",
      "    0   0]\n",
      " [  0   0   0   0   1   0   3   4   0 373  11   1   0   0   2   0   0   2\n",
      "    0   0]\n",
      " [  0   0   0   0   0   1   1   0   0   4 387   2   0   1   0   2   1   0\n",
      "    0   0]\n",
      " [  1   3   1   2   2   1   3   3   0   0   0 370   1   3   2   0   4   0\n",
      "    0   0]\n",
      " [  1   9   9  23   6   2   7   3   2   0   0  13 302   9   5   0   0   1\n",
      "    1   0]\n",
      " [  2  10   1   3   1   3   3   4   1   2   0   4   8 332   2   7   1   2\n",
      "    8   2]\n",
      " [  1   8   0   3   1   3   1   1   0   0   0   2   3   5 359   2   1   0\n",
      "    4   0]\n",
      " [  3   1   1   1   0   0   0   0   1   1   1   0   0   2   1 378   0   0\n",
      "    2   6]\n",
      " [  0   0   0   1   0   0   1   0   2   1   0   5   1   1   1   0 331   0\n",
      "   14   6]\n",
      " [  5   1   0   0   0   1   0   0   0   1   1   0   0   0   0   2   2 355\n",
      "    7   1]\n",
      " [  4   1   0   0   2   0   1   4   0   0   1   3   0   2   9   2  72   0\n",
      "  199  10]\n",
      " [ 35   1   2   0   0   0   0   0   0   0   0   1   0   2   5  33  15   1\n",
      "    7 149]]\n"
     ]
    }
   ],
   "source": [
    "cm = confusion_matrix(test.target, predictions)\n",
    "print(cm)"
   ]
  },
  {
   "cell_type": "code",
   "execution_count": 35,
   "metadata": {},
   "outputs": [
    {
     "data": {
      "text/plain": [
       "<matplotlib.colorbar.Colorbar at 0x7f8f24254f10>"
      ]
     },
     "execution_count": 35,
     "metadata": {},
     "output_type": "execute_result"
    },
    {
     "data": {
      "image/png": "[encoded data removed]",
      "text/plain": [
       "<Figure size 288x288 with 2 Axes>"
      ]
     },
     "metadata": {
      "needs_background": "light"
     },
     "output_type": "display_data"
    }
   ],
   "source": [
    "plt.matshow(cm)\n",
    "plt.colorbar()"
   ]
  }
 ],
 "metadata": {
  "kernelspec": {
   "display_name": "Python 3",
   "language": "python",
   "name": "python3"
  },
  "language_info": {
   "codemirror_mode": {
    "name": "ipython",
    "version": 3
   },
   "file_extension": ".py",
   "mimetype": "text/x-python",
   "name": "python",
   "nbconvert_exporter": "python",
   "pygments_lexer": "ipython3",
   "version": "3.8.5"
  }
 },
 "nbformat": 4,
 "nbformat_minor": 4
}
